{
 "cells": [
  {
   "cell_type": "markdown",
   "metadata": {},
   "source": [
    "## Please complete your lab here"
   ]
  },
  {
   "cell_type": "markdown",
   "metadata": {},
   "source": [
    "# 1. Read in the iris dataset located in 1.10-notebooks-and-CSVs-lab/data\n"
   ]
  },
  {
   "cell_type": "code",
   "execution_count": 1,
   "metadata": {
    "collapsed": true
   },
   "outputs": [
    {
     "name": "stdout",
     "output_type": "stream",
     "text": [
      "[['sepal_length', 'sepal_width', 'petal_length', 'petal_width', 'species'], ['5.1', '3.5', '1.4', '0.2', 'setosa'], ['4.9', '3', '1.4', '0.2', 'setosa'], ['4.7', '3.2', '1.3', '0.2', 'setosa'], ['4.6', '3.1', '1.5', '0.2', 'setosa'], ['5', '3.6', '1.4', '0.2', 'setosa'], ['5.4', '3.9', '1.7', '0.4', 'setosa'], ['4.6', '3.4', '1.4', '0.3', 'setosa'], ['5', '3.4', '1.5', '0.2', 'setosa'], ['4.4', '2.9', '1.4', '0.2', 'setosa'], ['4.9', '3.1', '1.5', '0.1', 'setosa'], ['5.4', '3.7', '1.5', '0.2', 'setosa'], ['4.8', '3.4', '1.6', '0.2', 'setosa'], ['4.8', '3', '1.4', '0.1', 'setosa'], ['4.3', '3', '1.1', '0.1', 'setosa'], ['5.8', '4', '1.2', '0.2', 'setosa'], ['5.7', '4.4', '1.5', '0.4', 'setosa'], ['5.4', '3.9', '1.3', '0.4', 'setosa'], ['5.1', '3.5', '1.4', '0.3', 'setosa'], ['5.7', '3.8', '1.7', '0.3', 'setosa'], ['5.1', '3.8', '1.5', '0.3', 'setosa'], ['5.4', '3.4', '1.7', '0.2', 'setosa'], ['5.1', '3.7', '1.5', '0.4', 'setosa'], ['4.6', '3.6', '1', '0.2', 'setosa'], ['5.1', '3.3', '1.7', '0.5', 'setosa'], ['4.8', '3.4', '1.9', '0.2', 'setosa'], ['5', '3', '1.6', '0.2', 'setosa'], ['5', '3.4', '1.6', '0.4', 'setosa'], ['5.2', '3.5', '1.5', '0.2', 'setosa'], ['5.2', '3.4', '1.4', '0.2', 'setosa'], ['4.7', '3.2', '1.6', '0.2', 'setosa'], ['4.8', '3.1', '1.6', '0.2', 'setosa'], ['5.4', '3.4', '1.5', '0.4', 'setosa'], ['5.2', '4.1', '1.5', '0.1', 'setosa'], ['5.5', '4.2', '1.4', '0.2', 'setosa'], ['4.9', '3.1', '1.5', '0.1', 'setosa'], ['5', '3.2', '1.2', '0.2', 'setosa'], ['5.5', '3.5', '1.3', '0.2', 'setosa'], ['4.9', '3.1', '1.5', '0.1', 'setosa'], ['4.4', '3', '1.3', '0.2', 'setosa'], ['5.1', '3.4', '1.5', '0.2', 'setosa'], ['5', '3.5', '1.3', '0.3', 'setosa'], ['4.5', '2.3', '1.3', '0.3', 'setosa'], ['4.4', '3.2', '1.3', '0.2', 'setosa'], ['5', '3.5', '1.6', '0.6', 'setosa'], ['5.1', '3.8', '1.9', '0.4', 'setosa'], ['4.8', '3', '1.4', '0.3', 'setosa'], ['5.1', '3.8', '1.6', '0.2', 'setosa'], ['4.6', '3.2', '1.4', '0.2', 'setosa'], ['5.3', '3.7', '1.5', '0.2', 'setosa'], ['5', '3.3', '1.4', '0.2', 'setosa'], ['7', '3.2', '4.7', '1.4', 'versicolor'], ['6.4', '3.2', '4.5', '1.5', 'versicolor'], ['6.9', '3.1', '4.9', '1.5', 'versicolor'], ['5.5', '2.3', '4', '1.3', 'versicolor'], ['6.5', '2.8', '4.6', '1.5', 'versicolor'], ['5.7', '2.8', '4.5', '1.3', 'versicolor'], ['6.3', '3.3', '4.7', '1.6', 'versicolor'], ['4.9', '2.4', '3.3', '1', 'versicolor'], ['6.6', '2.9', '4.6', '1.3', 'versicolor'], ['5.2', '2.7', '3.9', '1.4', 'versicolor'], ['5', '2', '3.5', '1', 'versicolor'], ['5.9', '3', '4.2', '1.5', 'versicolor'], ['6', '2.2', '4', '1', 'versicolor'], ['6.1', '2.9', '4.7', '1.4', 'versicolor'], ['5.6', '2.9', '3.6', '1.3', 'versicolor'], ['6.7', '3.1', '4.4', '1.4', 'versicolor'], ['5.6', '3', '4.5', '1.5', 'versicolor'], ['5.8', '2.7', '4.1', '1', 'versicolor'], ['6.2', '2.2', '4.5', '1.5', 'versicolor'], ['5.6', '2.5', '3.9', '1.1', 'versicolor'], ['5.9', '3.2', '4.8', '1.8', 'versicolor'], ['6.1', '2.8', '4', '1.3', 'versicolor'], ['6.3', '2.5', '4.9', '1.5', 'versicolor'], ['6.1', '2.8', '4.7', '1.2', 'versicolor'], ['6.4', '2.9', '4.3', '1.3', 'versicolor'], ['6.6', '3', '4.4', '1.4', 'versicolor'], ['6.8', '2.8', '4.8', '1.4', 'versicolor'], ['6.7', '3', '5', '1.7', 'versicolor'], ['6', '2.9', '4.5', '1.5', 'versicolor'], ['5.7', '2.6', '3.5', '1', 'versicolor'], ['5.5', '2.4', '3.8', '1.1', 'versicolor'], ['5.5', '2.4', '3.7', '1', 'versicolor'], ['5.8', '2.7', '3.9', '1.2', 'versicolor'], ['6', '2.7', '5.1', '1.6', 'versicolor'], ['5.4', '3', '4.5', '1.5', 'versicolor'], ['6', '3.4', '4.5', '1.6', 'versicolor'], ['6.7', '3.1', '4.7', '1.5', 'versicolor'], ['6.3', '2.3', '4.4', '1.3', 'versicolor'], ['5.6', '3', '4.1', '1.3', 'versicolor'], ['5.5', '2.5', '4', '1.3', 'versicolor'], ['5.5', '2.6', '4.4', '1.2', 'versicolor'], ['6.1', '3', '4.6', '1.4', 'versicolor'], ['5.8', '2.6', '4', '1.2', 'versicolor'], ['5', '2.3', '3.3', '1', 'versicolor'], ['5.6', '2.7', '4.2', '1.3', 'versicolor'], ['5.7', '3', '4.2', '1.2', 'versicolor'], ['5.7', '2.9', '4.2', '1.3', 'versicolor'], ['6.2', '2.9', '4.3', '1.3', 'versicolor'], ['5.1', '2.5', '3', '1.1', 'versicolor'], ['5.7', '2.8', '4.1', '1.3', 'versicolor'], ['6.3', '3.3', '6', '2.5', 'virginica'], ['5.8', '2.7', '5.1', '1.9', 'virginica'], ['7.1', '3', '5.9', '2.1', 'virginica'], ['6.3', '2.9', '5.6', '1.8', 'virginica'], ['6.5', '3', '5.8', '2.2', 'virginica'], ['7.6', '3', '6.6', '2.1', 'virginica'], ['4.9', '2.5', '4.5', '1.7', 'virginica'], ['7.3', '2.9', '6.3', '1.8', 'virginica'], ['6.7', '2.5', '5.8', '1.8', 'virginica'], ['7.2', '3.6', '6.1', '2.5', 'virginica'], ['6.5', '3.2', '5.1', '2', 'virginica'], ['6.4', '2.7', '5.3', '1.9', 'virginica'], ['6.8', '3', '5.5', '2.1', 'virginica'], ['5.7', '2.5', '5', '2', 'virginica'], ['5.8', '2.8', '5.1', '2.4', 'virginica'], ['6.4', '3.2', '5.3', '2.3', 'virginica'], ['6.5', '3', '5.5', '1.8', 'virginica'], ['7.7', '3.8', '6.7', '2.2', 'virginica'], ['7.7', '2.6', '6.9', '2.3', 'virginica'], ['6', '2.2', '5', '1.5', 'virginica'], ['6.9', '3.2', '5.7', '2.3', 'virginica'], ['5.6', '2.8', '4.9', '2', 'virginica'], ['7.7', '2.8', '6.7', '2', 'virginica'], ['6.3', '2.7', '4.9', '1.8', 'virginica'], ['6.7', '3.3', '5.7', '2.1', 'virginica'], ['7.2', '3.2', '6', '1.8', 'virginica'], ['6.2', '2.8', '4.8', '1.8', 'virginica'], ['6.1', '3', '4.9', '1.8', 'virginica'], ['6.4', '2.8', '5.6', '2.1', 'virginica'], ['7.2', '3', '5.8', '1.6', 'virginica'], ['7.4', '2.8', '6.1', '1.9', 'virginica'], ['7.9', '3.8', '6.4', '2', 'virginica'], ['6.4', '2.8', '5.6', '2.2', 'virginica'], ['6.3', '2.8', '5.1', '1.5', 'virginica'], ['6.1', '2.6', '5.6', '1.4', 'virginica'], ['7.7', '3', '6.1', '2.3', 'virginica'], ['6.3', '3.4', '5.6', '2.4', 'virginica'], ['6.4', '3.1', '5.5', '1.8', 'virginica'], ['6', '3', '4.8', '1.8', 'virginica'], ['6.9', '3.1', '5.4', '2.1', 'virginica'], ['6.7', '3.1', '5.6', '2.4', 'virginica'], ['6.9', '3.1', '5.1', '2.3', 'virginica'], ['5.8', '2.7', '5.1', '1.9', 'virginica'], ['6.8', '3.2', '5.9', '2.3', 'virginica'], ['6.7', '3.3', '5.7', '2.5', 'virginica'], ['6.7', '3', '5.2', '2.3', 'virginica'], ['6.3', '2.5', '5', '1.9', 'virginica'], ['6.5', '3', '5.2', '2', 'virginica'], ['6.2', '3.4', '5.4', '2.3', 'virginica'], ['5.9', '3', '5.1', '1.8', 'virginica']]\n"
     ]
    }
   ],
   "source": [
    "\n",
    "import csv\n",
    "dataset = [] #creating our empty list\n",
    "with open('../data/iris.csv', 'rU') as f:\n",
    "    reader=csv.reader(f)\n",
    "    for row in reader: #passing through each row \n",
    "        dataset.append(row) #adding that row to our new list\n",
    "        \n",
    "print dataset #Look at our beautiful list of lists!\n"
   ]
  },
  {
   "cell_type": "markdown",
   "metadata": {},
   "source": [
    "# 2. Notice the first list in your dataset is the column names. Eliminate it.\n",
    "\n",
    "\n"
   ]
  },
  {
   "cell_type": "code",
   "execution_count": 2,
   "metadata": {
    "collapsed": true
   },
   "outputs": [
    {
     "name": "stdout",
     "output_type": "stream",
     "text": [
      "[['5.1', '3.5', '1.4', '0.2', 'setosa'], ['4.9', '3', '1.4', '0.2', 'setosa'], ['4.7', '3.2', '1.3', '0.2', 'setosa'], ['4.6', '3.1', '1.5', '0.2', 'setosa'], ['5', '3.6', '1.4', '0.2', 'setosa'], ['5.4', '3.9', '1.7', '0.4', 'setosa'], ['4.6', '3.4', '1.4', '0.3', 'setosa'], ['5', '3.4', '1.5', '0.2', 'setosa'], ['4.4', '2.9', '1.4', '0.2', 'setosa'], ['4.9', '3.1', '1.5', '0.1', 'setosa'], ['5.4', '3.7', '1.5', '0.2', 'setosa'], ['4.8', '3.4', '1.6', '0.2', 'setosa'], ['4.8', '3', '1.4', '0.1', 'setosa'], ['4.3', '3', '1.1', '0.1', 'setosa'], ['5.8', '4', '1.2', '0.2', 'setosa'], ['5.7', '4.4', '1.5', '0.4', 'setosa'], ['5.4', '3.9', '1.3', '0.4', 'setosa'], ['5.1', '3.5', '1.4', '0.3', 'setosa'], ['5.7', '3.8', '1.7', '0.3', 'setosa'], ['5.1', '3.8', '1.5', '0.3', 'setosa'], ['5.4', '3.4', '1.7', '0.2', 'setosa'], ['5.1', '3.7', '1.5', '0.4', 'setosa'], ['4.6', '3.6', '1', '0.2', 'setosa'], ['5.1', '3.3', '1.7', '0.5', 'setosa'], ['4.8', '3.4', '1.9', '0.2', 'setosa'], ['5', '3', '1.6', '0.2', 'setosa'], ['5', '3.4', '1.6', '0.4', 'setosa'], ['5.2', '3.5', '1.5', '0.2', 'setosa'], ['5.2', '3.4', '1.4', '0.2', 'setosa'], ['4.7', '3.2', '1.6', '0.2', 'setosa'], ['4.8', '3.1', '1.6', '0.2', 'setosa'], ['5.4', '3.4', '1.5', '0.4', 'setosa'], ['5.2', '4.1', '1.5', '0.1', 'setosa'], ['5.5', '4.2', '1.4', '0.2', 'setosa'], ['4.9', '3.1', '1.5', '0.1', 'setosa'], ['5', '3.2', '1.2', '0.2', 'setosa'], ['5.5', '3.5', '1.3', '0.2', 'setosa'], ['4.9', '3.1', '1.5', '0.1', 'setosa'], ['4.4', '3', '1.3', '0.2', 'setosa'], ['5.1', '3.4', '1.5', '0.2', 'setosa'], ['5', '3.5', '1.3', '0.3', 'setosa'], ['4.5', '2.3', '1.3', '0.3', 'setosa'], ['4.4', '3.2', '1.3', '0.2', 'setosa'], ['5', '3.5', '1.6', '0.6', 'setosa'], ['5.1', '3.8', '1.9', '0.4', 'setosa'], ['4.8', '3', '1.4', '0.3', 'setosa'], ['5.1', '3.8', '1.6', '0.2', 'setosa'], ['4.6', '3.2', '1.4', '0.2', 'setosa'], ['5.3', '3.7', '1.5', '0.2', 'setosa'], ['5', '3.3', '1.4', '0.2', 'setosa'], ['7', '3.2', '4.7', '1.4', 'versicolor'], ['6.4', '3.2', '4.5', '1.5', 'versicolor'], ['6.9', '3.1', '4.9', '1.5', 'versicolor'], ['5.5', '2.3', '4', '1.3', 'versicolor'], ['6.5', '2.8', '4.6', '1.5', 'versicolor'], ['5.7', '2.8', '4.5', '1.3', 'versicolor'], ['6.3', '3.3', '4.7', '1.6', 'versicolor'], ['4.9', '2.4', '3.3', '1', 'versicolor'], ['6.6', '2.9', '4.6', '1.3', 'versicolor'], ['5.2', '2.7', '3.9', '1.4', 'versicolor'], ['5', '2', '3.5', '1', 'versicolor'], ['5.9', '3', '4.2', '1.5', 'versicolor'], ['6', '2.2', '4', '1', 'versicolor'], ['6.1', '2.9', '4.7', '1.4', 'versicolor'], ['5.6', '2.9', '3.6', '1.3', 'versicolor'], ['6.7', '3.1', '4.4', '1.4', 'versicolor'], ['5.6', '3', '4.5', '1.5', 'versicolor'], ['5.8', '2.7', '4.1', '1', 'versicolor'], ['6.2', '2.2', '4.5', '1.5', 'versicolor'], ['5.6', '2.5', '3.9', '1.1', 'versicolor'], ['5.9', '3.2', '4.8', '1.8', 'versicolor'], ['6.1', '2.8', '4', '1.3', 'versicolor'], ['6.3', '2.5', '4.9', '1.5', 'versicolor'], ['6.1', '2.8', '4.7', '1.2', 'versicolor'], ['6.4', '2.9', '4.3', '1.3', 'versicolor'], ['6.6', '3', '4.4', '1.4', 'versicolor'], ['6.8', '2.8', '4.8', '1.4', 'versicolor'], ['6.7', '3', '5', '1.7', 'versicolor'], ['6', '2.9', '4.5', '1.5', 'versicolor'], ['5.7', '2.6', '3.5', '1', 'versicolor'], ['5.5', '2.4', '3.8', '1.1', 'versicolor'], ['5.5', '2.4', '3.7', '1', 'versicolor'], ['5.8', '2.7', '3.9', '1.2', 'versicolor'], ['6', '2.7', '5.1', '1.6', 'versicolor'], ['5.4', '3', '4.5', '1.5', 'versicolor'], ['6', '3.4', '4.5', '1.6', 'versicolor'], ['6.7', '3.1', '4.7', '1.5', 'versicolor'], ['6.3', '2.3', '4.4', '1.3', 'versicolor'], ['5.6', '3', '4.1', '1.3', 'versicolor'], ['5.5', '2.5', '4', '1.3', 'versicolor'], ['5.5', '2.6', '4.4', '1.2', 'versicolor'], ['6.1', '3', '4.6', '1.4', 'versicolor'], ['5.8', '2.6', '4', '1.2', 'versicolor'], ['5', '2.3', '3.3', '1', 'versicolor'], ['5.6', '2.7', '4.2', '1.3', 'versicolor'], ['5.7', '3', '4.2', '1.2', 'versicolor'], ['5.7', '2.9', '4.2', '1.3', 'versicolor'], ['6.2', '2.9', '4.3', '1.3', 'versicolor'], ['5.1', '2.5', '3', '1.1', 'versicolor'], ['5.7', '2.8', '4.1', '1.3', 'versicolor'], ['6.3', '3.3', '6', '2.5', 'virginica'], ['5.8', '2.7', '5.1', '1.9', 'virginica'], ['7.1', '3', '5.9', '2.1', 'virginica'], ['6.3', '2.9', '5.6', '1.8', 'virginica'], ['6.5', '3', '5.8', '2.2', 'virginica'], ['7.6', '3', '6.6', '2.1', 'virginica'], ['4.9', '2.5', '4.5', '1.7', 'virginica'], ['7.3', '2.9', '6.3', '1.8', 'virginica'], ['6.7', '2.5', '5.8', '1.8', 'virginica'], ['7.2', '3.6', '6.1', '2.5', 'virginica'], ['6.5', '3.2', '5.1', '2', 'virginica'], ['6.4', '2.7', '5.3', '1.9', 'virginica'], ['6.8', '3', '5.5', '2.1', 'virginica'], ['5.7', '2.5', '5', '2', 'virginica'], ['5.8', '2.8', '5.1', '2.4', 'virginica'], ['6.4', '3.2', '5.3', '2.3', 'virginica'], ['6.5', '3', '5.5', '1.8', 'virginica'], ['7.7', '3.8', '6.7', '2.2', 'virginica'], ['7.7', '2.6', '6.9', '2.3', 'virginica'], ['6', '2.2', '5', '1.5', 'virginica'], ['6.9', '3.2', '5.7', '2.3', 'virginica'], ['5.6', '2.8', '4.9', '2', 'virginica'], ['7.7', '2.8', '6.7', '2', 'virginica'], ['6.3', '2.7', '4.9', '1.8', 'virginica'], ['6.7', '3.3', '5.7', '2.1', 'virginica'], ['7.2', '3.2', '6', '1.8', 'virginica'], ['6.2', '2.8', '4.8', '1.8', 'virginica'], ['6.1', '3', '4.9', '1.8', 'virginica'], ['6.4', '2.8', '5.6', '2.1', 'virginica'], ['7.2', '3', '5.8', '1.6', 'virginica'], ['7.4', '2.8', '6.1', '1.9', 'virginica'], ['7.9', '3.8', '6.4', '2', 'virginica'], ['6.4', '2.8', '5.6', '2.2', 'virginica'], ['6.3', '2.8', '5.1', '1.5', 'virginica'], ['6.1', '2.6', '5.6', '1.4', 'virginica'], ['7.7', '3', '6.1', '2.3', 'virginica'], ['6.3', '3.4', '5.6', '2.4', 'virginica'], ['6.4', '3.1', '5.5', '1.8', 'virginica'], ['6', '3', '4.8', '1.8', 'virginica'], ['6.9', '3.1', '5.4', '2.1', 'virginica'], ['6.7', '3.1', '5.6', '2.4', 'virginica'], ['6.9', '3.1', '5.1', '2.3', 'virginica'], ['5.8', '2.7', '5.1', '1.9', 'virginica'], ['6.8', '3.2', '5.9', '2.3', 'virginica'], ['6.7', '3.3', '5.7', '2.5', 'virginica'], ['6.7', '3', '5.2', '2.3', 'virginica'], ['6.3', '2.5', '5', '1.9', 'virginica'], ['6.5', '3', '5.2', '2', 'virginica'], ['6.2', '3.4', '5.4', '2.3', 'virginica'], ['5.9', '3', '5.1', '1.8', 'virginica']]\n"
     ]
    }
   ],
   "source": [
    "## We can slice the list by:\n",
    "data_list_update = dataset[1:] #This new data list is the entire list of lists without the one at position 0\n",
    "#creating a new name for the list prevents us from cutting more than the first 'row' if we run this cell multiple times\n",
    "\n",
    "print(data_list_update)"
   ]
  },
  {
   "cell_type": "markdown",
   "metadata": {},
   "source": [
    "# 3. Identify the number of observations in your dataset\n",
    "\n"
   ]
  },
  {
   "cell_type": "code",
   "execution_count": 3,
   "metadata": {
    "collapsed": false
   },
   "outputs": [
    {
     "data": {
      "text/plain": [
       "150"
      ]
     },
     "execution_count": 3,
     "metadata": {},
     "output_type": "execute_result"
    }
   ],
   "source": [
    "#Each list in the list of lists is an observation - we can count them with:\n",
    "\n",
    "observations = len(data_list_update) #measuring the length of the list\n",
    "observations"
   ]
  },
  {
   "cell_type": "markdown",
   "metadata": {},
   "source": [
    "# 4. Identify what species is in row four of your dataset"
   ]
  },
  {
   "cell_type": "markdown",
   "metadata": {},
   "source": [
    "## Now would be a good time to see our header row..."
   ]
  },
  {
   "cell_type": "code",
   "execution_count": 5,
   "metadata": {
    "collapsed": false
   },
   "outputs": [
    {
     "name": "stdout",
     "output_type": "stream",
     "text": [
      "['sepal_length', 'sepal_width', 'petal_length', 'petal_width', 'species']\n"
     ]
    }
   ],
   "source": [
    "print(dataset[0]) ##Good thing we didn't get rid of it!"
   ]
  },
  {
   "cell_type": "markdown",
   "metadata": {},
   "source": [
    "### Species is the string at index 4 of each list..."
   ]
  },
  {
   "cell_type": "code",
   "execution_count": 6,
   "metadata": {
    "collapsed": false
   },
   "outputs": [
    {
     "name": "stdout",
     "output_type": "stream",
     "text": [
      "setosa is the species in 4th row\n"
     ]
    }
   ],
   "source": [
    "print str(data_list_update[3][4]) + \" is the species in 4th row\" #printing the 4th item (species) from the list at index 3 (4th row)"
   ]
  },
  {
   "cell_type": "markdown",
   "metadata": {},
   "source": [
    "# 5. Calculate the average sepal length in the dataset (sepal is the first entry in each list)\n",
    "\n"
   ]
  },
  {
   "cell_type": "code",
   "execution_count": 7,
   "metadata": {
    "collapsed": false
   },
   "outputs": [
    {
     "data": {
      "text/plain": [
       "5.843333333333335"
      ]
     },
     "execution_count": 7,
     "metadata": {},
     "output_type": "execute_result"
    }
   ],
   "source": [
    "##First we need to pass through the dataset and collect the total sepal lengths\n",
    "total_length = 0\n",
    "for flower in data_list_update:\n",
    "    total_length = float(flower[0])+ total_length ## This will convert the string lengths to floats and total them all\n",
    "\n",
    "avg_sepal = total_length/len(data_list_update) ## Divide the total by the number of the list\n",
    "avg_sepal"
   ]
  },
  {
   "cell_type": "markdown",
   "metadata": {},
   "source": [
    "# 6. Calculate the average sepal length of setosa flowers using a loop\n"
   ]
  },
  {
   "cell_type": "code",
   "execution_count": 8,
   "metadata": {
    "collapsed": false
   },
   "outputs": [
    {
     "data": {
      "text/plain": [
       "5.005999999999999"
      ]
     },
     "execution_count": 8,
     "metadata": {},
     "output_type": "execute_result"
    }
   ],
   "source": [
    "## We need to loop through the entire list, look at the string in index 3 of each list, and if it matches setosa total and average those\n",
    "\n",
    "setosa_length =0 ##setitng some variables\n",
    "flower_counter = 0\n",
    "for flower in data_list_update:\n",
    "    if flower[4] == \"setosa\":    ## Does this flower species match setosa?\n",
    "        setosa_length = setosa_length + float(flower[0])  ##if it does add it to the total\n",
    "        flower_counter += 1  ## Keep count of the number of values we add\n",
    "avg_setosa = setosa_length/flower_counter # calculate the avverage\n",
    "avg_setosa"
   ]
  },
  {
   "cell_type": "markdown",
   "metadata": {},
   "source": [
    "# BONUS: Calculate the average sepal length of flowers of any given species\n",
    "\n"
   ]
  },
  {
   "cell_type": "markdown",
   "metadata": {},
   "source": [
    "## We just need to update our code from the previous cell slightly"
   ]
  },
  {
   "cell_type": "code",
   "execution_count": 9,
   "metadata": {
    "collapsed": true
   },
   "outputs": [],
   "source": [
    "def flower_power_calculator(species_name): ## Define a function that takes the name of a species\n",
    "    length =0 ##setitng some variables\n",
    "    counter = 0\n",
    "    for flower in data_list_update:\n",
    "        if flower[4] == species_name:\n",
    "            length = length + float(flower[0])\n",
    "            counter += 1\n",
    "    avg_leng = length/counter\n",
    "    return avg_leng"
   ]
  },
  {
   "cell_type": "code",
   "execution_count": 10,
   "metadata": {
    "collapsed": false
   },
   "outputs": [
    {
     "data": {
      "text/plain": [
       "6.587999999999998"
      ]
     },
     "execution_count": 10,
     "metadata": {},
     "output_type": "execute_result"
    }
   ],
   "source": [
    "flower_power_calculator(\"virginica\")"
   ]
  },
  {
   "cell_type": "code",
   "execution_count": null,
   "metadata": {
    "collapsed": true
   },
   "outputs": [],
   "source": []
  }
 ],
 "metadata": {
  "kernelspec": {
   "display_name": "Python 2",
   "language": "python",
   "name": "python2"
  },
  "language_info": {
   "codemirror_mode": {
    "name": "ipython",
    "version": 2
   },
   "file_extension": ".py",
   "mimetype": "text/x-python",
   "name": "python",
   "nbconvert_exporter": "python",
   "pygments_lexer": "ipython2",
   "version": "2.7.13"
  }
 },
 "nbformat": 4,
 "nbformat_minor": 2
}
